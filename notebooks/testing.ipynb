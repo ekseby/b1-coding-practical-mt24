{
 "cells": [
  {
   "cell_type": "code",
   "execution_count": 1,
   "metadata": {},
   "outputs": [
    {
     "ename": "ModuleNotFoundError",
     "evalue": "No module named 'dynamic'",
     "output_type": "error",
     "traceback": [
      "\u001b[1;31m---------------------------------------------------------------------------\u001b[0m",
      "\u001b[1;31mModuleNotFoundError\u001b[0m                       Traceback (most recent call last)",
      "Cell \u001b[1;32mIn[1], line 4\u001b[0m\n\u001b[0;32m      2\u001b[0m \u001b[38;5;28;01mimport\u001b[39;00m \u001b[38;5;21;01mnumpy\u001b[39;00m \u001b[38;5;28;01mas\u001b[39;00m \u001b[38;5;21;01mnp\u001b[39;00m\n\u001b[0;32m      3\u001b[0m \u001b[38;5;28;01mimport\u001b[39;00m \u001b[38;5;21;01mmatplotlib\u001b[39;00m\u001b[38;5;21;01m.\u001b[39;00m\u001b[38;5;21;01mpyplot\u001b[39;00m \u001b[38;5;28;01mas\u001b[39;00m \u001b[38;5;21;01mplt\u001b[39;00m\n\u001b[1;32m----> 4\u001b[0m \u001b[38;5;28;01mfrom\u001b[39;00m \u001b[38;5;21;01mdynamic\u001b[39;00m \u001b[38;5;28;01mimport\u001b[39;00m ClosedLoop, Submarine, Mission, Trajectory\n\u001b[0;32m      5\u001b[0m \u001b[38;5;28;01mfrom\u001b[39;00m \u001b[38;5;21;01mcontrol\u001b[39;00m \u001b[38;5;28;01mimport\u001b[39;00m PDController\n\u001b[0;32m      8\u001b[0m mission \u001b[38;5;241m=\u001b[39m Mission\u001b[38;5;241m.\u001b[39mrandom_mission(duration\u001b[38;5;241m=\u001b[39m\u001b[38;5;241m100\u001b[39m, scale\u001b[38;5;241m=\u001b[39m\u001b[38;5;241m1.0\u001b[39m)\n",
      "\u001b[1;31mModuleNotFoundError\u001b[0m: No module named 'dynamic'"
     ]
    }
   ],
   "source": [
    "import sys\n",
    "import os\n",
    "\n",
    "# Check the current working directory\n",
    "current_directory = os.getcwd()\n",
    "print(f\"Current working directory: {current_directory}\")\n",
    "\n",
    "# Set the working directory to the directory containing your modules\n",
    "# Replace 'C:/path/to/your/project_directory' with the actual path to your project directory\n",
    "os.chdir('C:/Users/Student/b1-coding-practical-mt24')\n",
    "\n",
    "# Verify the change\n",
    "current_directory = os.getcwd()\n",
    "print(f\"New working directory: {current_directory}\")\n",
    "\n",
    "# Add the directory containing your modules to the Python path\n",
    "module_path = os.path.abspath(os.getcwd())\n",
    "if module_path not in sys.path:\n",
    "    sys.path.append(module_path)\n",
    "\n",
    "# Print the Python path\n",
    "print(\"Python path:\")\n",
    "for path in sys.path:\n",
    "    print(path)\n",
    "\n",
    "\n",
    "# Import necessary modules\n",
    "import numpy as np\n",
    "import matplotlib.pyplot as plt\n",
    "from dynamic import ClosedLoop, Submarine, Mission, Trajectory\n",
    "from control import PDController\n",
    "\n",
    "\n",
    "mission = Mission.random_mission(duration=100, scale=1.0)\n",
    "submarine = Submarine()\n",
    "controller = PDController(kp=0.15, kd=0.6)\n",
    "closed_loop = ClosedLoop(plant=submarine, controller=controller)\n",
    "\n",
    "trajectory = closed_loop.simulate_with_random_disturbances(mission, variance=0.5)\n",
    "\n",
    "# Plot the results (as shown in the previous example)\n",
    "import matplotlib.pyplot as plt\n",
    "\n",
    "plt.figure(figsize=(12, 6))\n",
    "plt.subplot(3, 1, 1)\n",
    "plt.plot(trajectory.positions[:, 0], label='X Position')\n",
    "plt.plot(trajectory.positions[:, 1], label='Y Position')\n",
    "plt.legend()\n",
    "plt.title('Submarine Positions')\n",
    "\n",
    "plt.subplot(3, 1, 2)\n",
    "plt.plot(trajectory.actions, label='Control Actions')\n",
    "plt.legend()\n",
    "plt.title('Control Actions')\n",
    "\n",
    "plt.subplot(3, 1, 3)\n",
    "plt.plot(trajectory.errors, label='Errors')\n",
    "plt.legend()\n",
    "plt.title('Errors')\n",
    "\n",
    "plt.tight_layout()\n",
    "plt.show()"
   ]
  },
  {
   "cell_type": "code",
   "execution_count": 4,
   "metadata": {},
   "outputs": [
    {
     "name": "stdout",
     "output_type": "stream",
     "text": [
      "['c:\\\\Users\\\\Student\\\\b1-coding-practical-mt24:', 'c:\\\\Users\\\\Student\\\\anaconda3\\\\envs\\\\myenv\\\\python311.zip', 'c:\\\\Users\\\\Student\\\\anaconda3\\\\envs\\\\myenv\\\\DLLs', 'c:\\\\Users\\\\Student\\\\anaconda3\\\\envs\\\\myenv\\\\Lib', 'c:\\\\Users\\\\Student\\\\anaconda3\\\\envs\\\\myenv', '', 'c:\\\\Users\\\\Student\\\\anaconda3\\\\envs\\\\myenv\\\\Lib\\\\site-packages', 'c:\\\\Users\\\\Student\\\\anaconda3\\\\envs\\\\myenv\\\\Lib\\\\site-packages\\\\win32', 'c:\\\\Users\\\\Student\\\\anaconda3\\\\envs\\\\myenv\\\\Lib\\\\site-packages\\\\win32\\\\lib', 'c:\\\\Users\\\\Student\\\\anaconda3\\\\envs\\\\myenv\\\\Lib\\\\site-packages\\\\Pythonwin', 'c:\\\\Users\\\\Student\\\\anaconda3\\\\envs\\\\myenv\\\\Lib\\\\site-packages\\\\setuptools\\\\_vendor']\n"
     ]
    }
   ],
   "source": [
    "import sys\n",
    "print(sys.path)"
   ]
  }
 ],
 "metadata": {
  "kernelspec": {
   "display_name": "myenv",
   "language": "python",
   "name": "python3"
  },
  "language_info": {
   "codemirror_mode": {
    "name": "ipython",
    "version": 3
   },
   "file_extension": ".py",
   "mimetype": "text/x-python",
   "name": "python",
   "nbconvert_exporter": "python",
   "pygments_lexer": "ipython3",
   "version": "3.11.4"
  }
 },
 "nbformat": 4,
 "nbformat_minor": 2
}
